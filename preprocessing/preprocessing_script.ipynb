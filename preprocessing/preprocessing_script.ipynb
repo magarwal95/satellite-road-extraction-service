{
 "cells": [
  {
   "cell_type": "code",
   "execution_count": 1,
   "metadata": {},
   "outputs": [
    {
     "data": {
      "text/plain": [
       "'script to pre-process data'"
      ]
     },
     "execution_count": 1,
     "metadata": {},
     "output_type": "execute_result"
    }
   ],
   "source": [
    "\"\"\"script to pre-process data (cropping images into 512*512 size)\"\"\""
   ]
  },
  {
   "cell_type": "code",
   "execution_count": 2,
   "metadata": {},
   "outputs": [],
   "source": [
    "# !ipython nbconvert --to=python preprocessing_script.ipynb"
   ]
  },
  {
   "cell_type": "code",
   "execution_count": 3,
   "metadata": {},
   "outputs": [],
   "source": [
    "import os\n",
    "import glob\n",
    "\n",
    "import cv2"
   ]
  },
  {
   "cell_type": "code",
   "execution_count": 4,
   "metadata": {},
   "outputs": [],
   "source": [
    "INPUT_PATH = \"/home/ubuntu/valdata/road_boundary_train/road_satellite/dataset/train\"\n",
    "OUTPUT_PATH = \"/home/ubuntu/valdata/road_boundary_train/road_satellite/dataset/training\""
   ]
  },
  {
   "cell_type": "code",
   "execution_count": 5,
   "metadata": {},
   "outputs": [],
   "source": [
    "def get_filename(file):\n",
    "    idx1 = file.rfind(\"/\")\n",
    "    filename = file[idx1+1:]\n",
    "    return filename\n",
    "\n",
    "def read_img(filepath):\n",
    "    image = cv2.imread(filepath, cv2.IMREAD_UNCHANGED)\n",
    "    return image\n",
    "\n",
    "def save_image(filename, image):\n",
    "    resized_img = cv2.resize(image,(512,512),interpolation=cv2.INTER_AREA)\n",
    "    cv2.imwrite(f\"{OUTPUT_PATH}/images/{filename}\", resized_img)\n",
    "\n",
    "def save_mask(filename, image):\n",
    "    resized_img = cv2.resize(image,(512,512),interpolation=cv2.INTER_AREA)\n",
    "    cv2.imwrite(f\"{OUTPUT_PATH}/masks/{filename}\", resized_img)\n"
   ]
  },
  {
   "cell_type": "code",
   "execution_count": 6,
   "metadata": {},
   "outputs": [],
   "source": [
    "def crop_img_mask(img, mask, file_name):\n",
    "    image = cv2.resize(img, (1536, 1536))\n",
    "    label = cv2.resize(mask, (1536, 1536))\n",
    "    num = 0\n",
    "\n",
    "    for i in range(3):\n",
    "        row_start, row_end = i*512, (i+1)*512\n",
    "        for j in range(3):\n",
    "            col_start, col_end = j*512, (j+1)*512\n",
    "            crp_img = image[row_start:row_end, col_start:col_end]\n",
    "            crp_mask = label[row_start:row_end, col_start:col_end]\n",
    "            \n",
    "            save_image(f\"{num}_{file_name}\", crp_img)\n",
    "            save_mask(f\"{num}_{file_name}\", crp_mask)\n",
    "            \n",
    "            num += 1\n",
    "            \n",
    "            "
   ]
  },
  {
   "cell_type": "code",
   "execution_count": 7,
   "metadata": {},
   "outputs": [],
   "source": [
    "def main():\n",
    "    images = glob.glob(f\"{INPUT_PATH}/images/*.png\")\n",
    "    \n",
    "    for img_path in images:\n",
    "        file_name = get_filename(img_path)\n",
    "        label_path = f\"{INPUT_PATH}/masks/{file_name}\"\n",
    "        \n",
    "        img = read_img(img_path)\n",
    "        label = read_img(label_path)\n",
    "        \n",
    "        crop_img_mask(img, label, file_name)\n",
    "        "
   ]
  },
  {
   "cell_type": "code",
   "execution_count": 8,
   "metadata": {},
   "outputs": [
    {
     "name": "stdout",
     "output_type": "stream",
     "text": [
      "804\n"
     ]
    }
   ],
   "source": [
    "if __name__ == '__main__':\n",
    "    main()"
   ]
  },
  {
   "cell_type": "code",
   "execution_count": null,
   "metadata": {},
   "outputs": [],
   "source": []
  }
 ],
 "metadata": {
  "kernelspec": {
   "display_name": "Environment (conda_sm_env)",
   "language": "python",
   "name": "conda_sm_env"
  },
  "language_info": {
   "codemirror_mode": {
    "name": "ipython",
    "version": 3
   },
   "file_extension": ".py",
   "mimetype": "text/x-python",
   "name": "python",
   "nbconvert_exporter": "python",
   "pygments_lexer": "ipython3",
   "version": "3.6.5"
  }
 },
 "nbformat": 4,
 "nbformat_minor": 2
}
