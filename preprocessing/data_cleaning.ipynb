{
 "cells": [
  {
   "cell_type": "code",
   "execution_count": 1,
   "metadata": {},
   "outputs": [
    {
     "data": {
      "text/plain": [
       "'script to clean data'"
      ]
     },
     "execution_count": 1,
     "metadata": {},
     "output_type": "execute_result"
    }
   ],
   "source": [
    "\"\"\"script to clean data\"\"\""
   ]
  },
  {
   "cell_type": "code",
   "execution_count": 2,
   "metadata": {},
   "outputs": [],
   "source": [
    "import os\n",
    "import glob\n",
    "\n",
    "import cv2\n",
    "import numpy as np"
   ]
  },
  {
   "cell_type": "code",
   "execution_count": null,
   "metadata": {},
   "outputs": [],
   "source": [
    "ROOT_PATH = \"/home/ubuntu/valdata/road_boundary_train/road_satellite/road_segmentation_ideal/training\""
   ]
  },
  {
   "cell_type": "code",
   "execution_count": 3,
   "metadata": {},
   "outputs": [],
   "source": [
    "def read_img(filepath):\n",
    "    image = cv2.imread(filepath, cv2.IMREAD_UNCHANGED)\n",
    "    return image"
   ]
  },
  {
   "cell_type": "code",
   "execution_count": null,
   "metadata": {},
   "outputs": [],
   "source": [
    "def main():\n",
    "    imgs = glob.glob(f\"{ROOT_PATH}/input/*.png\")\n",
    "    \n",
    "    for img in imgs:\n",
    "        file_name = get_filename(img)\n",
    "        label = f\"{ROOT_PATH}/output/{file_name}\"\n",
    "        \n",
    "        if not os.path.exists(label):\n",
    "            # if label file does not exist\n",
    "            continue\n",
    "        \n",
    "        bgr_img = read_img(img)\n",
    "        gs_img = cv2.cvtColor(bgr_img, cv2.COLOR_BGR2GRAY)\n",
    "        if np.sum(gs_img == 255) > 300000:\n",
    "            # if there is large white patch in the image\n",
    "            continue\n",
    "        \n",
    "        des_file_img = f\"{OUTPUT_PATH}/images/{file_name}\"\n",
    "        shutil.copy(img, des_file_img)\n",
    "        \n",
    "        des_file_label = f\"{OUTPUT_PATH}/masks/{file_name}\"\n",
    "        shutil.copy(label, des_file_label)"
   ]
  },
  {
   "cell_type": "code",
   "execution_count": 17,
   "metadata": {},
   "outputs": [
    {
     "name": "stdout",
     "output_type": "stream",
     "text": [
      "(1500, 1500)\n",
      "434097\n"
     ]
    }
   ],
   "source": [
    "if __name__ == '__main__':\n",
    "    main()"
   ]
  }
 ],
 "metadata": {
  "kernelspec": {
   "display_name": "Environment (conda_sm_env)",
   "language": "python",
   "name": "conda_sm_env"
  },
  "language_info": {
   "codemirror_mode": {
    "name": "ipython",
    "version": 3
   },
   "file_extension": ".py",
   "mimetype": "text/x-python",
   "name": "python",
   "nbconvert_exporter": "python",
   "pygments_lexer": "ipython3",
   "version": "3.6.5"
  }
 },
 "nbformat": 4,
 "nbformat_minor": 2
}
